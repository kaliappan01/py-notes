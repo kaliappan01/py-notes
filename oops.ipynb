{
 "cells": [
  {
   "cell_type": "code",
   "execution_count": 50,
   "metadata": {},
   "outputs": [],
   "source": [
    "class Animal:\n",
    "    def __init__(self, name, species, worth):\n",
    "        self.name = name\n",
    "        self._species = species\n",
    "        self.__worth = worth\n",
    "    def __str__(self):\n",
    "        return f\"{self.name} is a {self._species}\"\n",
    "    def get__worth(self):\n",
    "        return self.__worth\n",
    "    def make_sound(self, sound):\n",
    "        print(f\"{self.name} makes a {sound} sound are worth {self.__worth}\")\n",
    "    \n",
    "    def __add__(self, other):\n",
    "        return Animal(self.name[:len(self.name)//2]+other.name[:len(other.name)//2], \"HYBRID\",\"Invaluable\")\n",
    "\n",
    "class Bear(Animal):\n",
    "    def __init__(self):\n",
    "        super().__init__(\"Bear\", \"Wild bear\",\"$1000\")\n",
    "    def get_worth(self):\n",
    "        return super().get__worth()\n",
    "\n",
    "class Cheetah(Animal):\n",
    "    def __init__(self):\n",
    "        self.name = \"Cheetah\"\n",
    "        self._species = \"CAT\"\n",
    "        self.__worth = \"$100000\"\n"
   ]
  },
  {
   "cell_type": "code",
   "execution_count": 51,
   "metadata": {},
   "outputs": [
    {
     "name": "stdout",
     "output_type": "stream",
     "text": [
      "Bear makes a Roar sound are worth $1000\n",
      "Bear is a Wild bear\n"
     ]
    }
   ],
   "source": [
    "b = Bear()\n",
    "b.make_sound(\"Roar\")\n",
    "print(b)"
   ]
  },
  {
   "cell_type": "code",
   "execution_count": 40,
   "metadata": {},
   "outputs": [],
   "source": [
    "def new_speak(self):\n",
    "    return f\"{self.name} started speaking {self._Animal__worth}!!!\"\n",
    "\n",
    "Animal.speak = new_speak"
   ]
  },
  {
   "cell_type": "code",
   "execution_count": 52,
   "metadata": {},
   "outputs": [
    {
     "name": "stdout",
     "output_type": "stream",
     "text": [
      "BeBe is a HYBRID\n"
     ]
    }
   ],
   "source": [
    "b2 = Bear()\n",
    "print(b+b2)"
   ]
  },
  {
   "cell_type": "code",
   "execution_count": 30,
   "metadata": {},
   "outputs": [
    {
     "data": {
      "text/plain": [
       "'$1000'"
      ]
     },
     "execution_count": 30,
     "metadata": {},
     "output_type": "execute_result"
    }
   ],
   "source": [
    "b.get_worth()"
   ]
  },
  {
   "cell_type": "markdown",
   "metadata": {},
   "source": [
    "#One-Liner class"
   ]
  },
  {
   "cell_type": "code",
   "execution_count": 53,
   "metadata": {},
   "outputs": [
    {
     "name": "stdout",
     "output_type": "stream",
     "text": [
      "I am a Custom one liner class\n"
     ]
    }
   ],
   "source": [
    "OnelinerClass = type('OnelineClass', (), {'name':\"Custom one liner class\"})\n",
    "oc = OnelinerClass()\n",
    "def monkey_fn(self):\n",
    "    return f\"I am a {self.name}\"\n",
    "\n",
    "OnelinerClass.__str__ = monkey_fn\n",
    "\n",
    "print(oc)"
   ]
  },
  {
   "cell_type": "markdown",
   "metadata": {},
   "source": [
    "#Meta-class"
   ]
  },
  {
   "cell_type": "code",
   "execution_count": null,
   "metadata": {},
   "outputs": [],
   "source": [
    "class Meta(type):\n",
    "    def __new__(cls, name, bases, dct):"
   ]
  }
 ],
 "metadata": {
  "kernelspec": {
   "display_name": "Python 3",
   "language": "python",
   "name": "python3"
  },
  "language_info": {
   "codemirror_mode": {
    "name": "ipython",
    "version": 3
   },
   "file_extension": ".py",
   "mimetype": "text/x-python",
   "name": "python",
   "nbconvert_exporter": "python",
   "pygments_lexer": "ipython3",
   "version": "3.8.10"
  }
 },
 "nbformat": 4,
 "nbformat_minor": 2
}
